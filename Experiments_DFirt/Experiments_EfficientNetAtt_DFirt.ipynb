{
 "cells": [
  {
   "cell_type": "markdown",
   "metadata": {},
   "source": [
    " # Experiments: Training of EfficientNetB0 with Attention"
   ]
  },
  {
   "cell_type": "code",
   "execution_count": 1,
   "metadata": {},
   "outputs": [],
   "source": [
    "import torch\n",
    "from data_utils import DFirt\n",
    "from classifiers.efficient_net_b0_att import EfficientNetB0Att\n",
    "\n",
    "device = torch.device(\"cuda:0\" if torch.cuda.is_available() else \"cpu\")\n",
    "\n",
    "%load_ext autoreload\n",
    "%autoreload 2"
   ]
  },
  {
   "cell_type": "markdown",
   "metadata": {},
   "source": [
    "###### Data Preprocessing"
   ]
  },
  {
   "cell_type": "code",
   "execution_count": 2,
   "metadata": {},
   "outputs": [],
   "source": [
    "# Augment expression swap and identity swap \n",
    "train = DFirt('../DFirt/train/')\n",
    "val = DFirt('../DFirt/val/')"
   ]
  },
  {
   "cell_type": "code",
   "execution_count": 3,
   "metadata": {},
   "outputs": [
    {
     "name": "stdout",
     "output_type": "stream",
     "text": [
      "attribute_manipulation :  160000\n",
      "expression_swap :  160000\n",
      "face_synthesis :  160000\n",
      "identity_swap :  160000\n",
      "real :  160000\n"
     ]
    }
   ],
   "source": [
    "train.class_distribution()"
   ]
  },
  {
   "cell_type": "code",
   "execution_count": 4,
   "metadata": {},
   "outputs": [
    {
     "name": "stdout",
     "output_type": "stream",
     "text": [
      "attribute_manipulation :  1999\n",
      "expression_swap :  4057\n",
      "face_synthesis :  3998\n",
      "identity_swap :  7789\n",
      "real :  3213\n"
     ]
    }
   ],
   "source": [
    "val.class_distribution()"
   ]
  },
  {
   "cell_type": "code",
   "execution_count": 5,
   "metadata": {},
   "outputs": [],
   "source": [
    "bs = 64\n",
    "train_loader = train.data_loader(batch_size=bs)\n",
    "val_loader = val.data_loader(batch_size=bs)"
   ]
  },
  {
   "cell_type": "markdown",
   "metadata": {},
   "source": [
    "###### Define Model\n",
    "Plain EfficientNet-B0 and Attention Module is implemented in the forward function."
   ]
  },
  {
   "cell_type": "code",
   "execution_count": 6,
   "metadata": {},
   "outputs": [
    {
     "name": "stdout",
     "output_type": "stream",
     "text": [
      "Loaded pretrained weights for efficientnet-b0\n",
      "Number of parameters:  5653633\n"
     ]
    }
   ],
   "source": [
    "model = EfficientNetB0Att(version='b0', reg=False)\n",
    "model.to(device)\n",
    "print('Number of parameters: ', sum(p.numel() for p in model.parameters() if p.requires_grad))"
   ]
  },
  {
   "cell_type": "markdown",
   "metadata": {},
   "source": [
    "###### Training"
   ]
  },
  {
   "cell_type": "code",
   "execution_count": 7,
   "metadata": {},
   "outputs": [
    {
     "name": "stdout",
     "output_type": "stream",
     "text": [
      "START TRAIN.\n",
      "[Epoch 1/12] TRAIN acc/loss: 0.860061/0.345815\n",
      "[Epoch 1/12] VAL acc/loss: 0.888345/0.285121\n",
      "Saving model... models/EfficientNetb0Att.model\n",
      "[Epoch 2/12] TRAIN acc/loss: 0.913312/0.215248\n",
      "[Epoch 2/12] VAL acc/loss: 0.892240/0.289401\n",
      "Saving model... models/EfficientNetb0Att.model\n",
      "[Epoch 3/12] TRAIN acc/loss: 0.934215/0.164062\n",
      "[Epoch 3/12] VAL acc/loss: 0.898699/0.328680\n",
      "Saving model... models/EfficientNetb0Att.model\n",
      "[Epoch 4/12] TRAIN acc/loss: 0.949013/0.130210\n",
      "[Epoch 4/12] VAL acc/loss: 0.904873/0.341705\n",
      "Saving model... models/EfficientNetb0Att.model\n",
      "[Epoch 5/12] TRAIN acc/loss: 0.958580/0.104649\n",
      "[Epoch 5/12] VAL acc/loss: 0.906297/0.346621\n",
      "Saving model... models/EfficientNetb0Att.model\n",
      "[Epoch 6/12] TRAIN acc/loss: 0.966741/0.085711\n",
      "[Epoch 6/12] VAL acc/loss: 0.906155/0.375337\n",
      "[Epoch 7/12] TRAIN acc/loss: 0.972274/0.072146\n",
      "[Epoch 7/12] VAL acc/loss: 0.906487/0.424374\n",
      "Saving model... models/EfficientNetb0Att.model\n",
      "[Epoch 8/12] TRAIN acc/loss: 0.976221/0.062448\n",
      "[Epoch 8/12] VAL acc/loss: 0.904588/0.461730\n",
      "[Epoch 9/12] TRAIN acc/loss: 0.979269/0.055395\n",
      "[Epoch 9/12] VAL acc/loss: 0.910952/0.441561\n",
      "Saving model... models/EfficientNetb0Att.model\n",
      "[Epoch 10/12] TRAIN acc/loss: 0.981580/0.049776\n",
      "[Epoch 10/12] VAL acc/loss: 0.906345/0.467130\n",
      "[Epoch 11/12] TRAIN acc/loss: 0.983064/0.056280\n",
      "[Epoch 11/12] VAL acc/loss: 0.901786/0.523584\n",
      "[Epoch 12/12] TRAIN acc/loss: 0.984258/0.043595\n",
      "[Epoch 12/12] VAL acc/loss: 0.899934/0.499620\n",
      "\n",
      "\n",
      "Confusion matrix: \n",
      " [[1.564e+03 2.000e+00 8.300e+01 0.000e+00 3.500e+02]\n",
      " [0.000e+00 3.445e+03 0.000e+00 3.520e+02 2.600e+02]\n",
      " [1.200e+01 0.000e+00 3.796e+03 0.000e+00 1.900e+02]\n",
      " [0.000e+00 9.900e+01 0.000e+00 7.566e+03 1.240e+02]\n",
      " [3.000e+01 3.590e+02 1.280e+02 1.180e+02 2.578e+03]]\n",
      "\n",
      "\n",
      "FINISH.\n"
     ]
    }
   ],
   "source": [
    "from solver import Solver\n",
    "solver = Solver(optim_args={'lr': 1e-4}, reg=False)\n",
    "train_history = solver.train(model, train_loader, val_loader, log_nth=1, num_epochs=12)"
   ]
  }
 ],
 "metadata": {
  "kernelspec": {
   "display_name": "Python 3",
   "language": "python",
   "name": "python3"
  },
  "language_info": {
   "codemirror_mode": {
    "name": "ipython",
    "version": 3
   },
   "file_extension": ".py",
   "mimetype": "text/x-python",
   "name": "python",
   "nbconvert_exporter": "python",
   "pygments_lexer": "ipython3",
   "version": "3.8.2"
  }
 },
 "nbformat": 4,
 "nbformat_minor": 4
}
