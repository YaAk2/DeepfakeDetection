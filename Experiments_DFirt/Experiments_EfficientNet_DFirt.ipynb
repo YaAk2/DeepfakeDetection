{
 "cells": [
  {
   "cell_type": "markdown",
   "metadata": {},
   "source": [
    " # Experiments: Training of EfficientNets"
   ]
  },
  {
   "cell_type": "code",
   "execution_count": 1,
   "metadata": {},
   "outputs": [],
   "source": [
    "import numpy as np\n",
    "import torch\n",
    "\n",
    "from data_utils import DFirt\n",
    "from classifiers.plain_cnn import PlainCNN\n",
    "from classifiers.shuffle_net_v2 import ShuffleNetv2\n",
    "from classifiers.mobile_net_v2 import MobileNetv2\n",
    "from classifiers.efficient_net_vX import EfficientNetvX\n",
    "from classifiers.resnext50_32x4d import ResNext50_32x4d\n",
    "\n",
    "device = torch.device(\"cuda:0\" if torch.cuda.is_available() else \"cpu\")\n",
    "\n",
    "%load_ext autoreload\n",
    "%autoreload 2"
   ]
  },
  {
   "cell_type": "markdown",
   "metadata": {},
   "source": [
    "###### Data Preprocessing"
   ]
  },
  {
   "cell_type": "code",
   "execution_count": 2,
   "metadata": {},
   "outputs": [],
   "source": [
    "# Augment expression swap and identity swap \n",
    "train = DFirt('../DFirt/train/')\n",
    "val = DFirt('../DFirt/val/')"
   ]
  },
  {
   "cell_type": "code",
   "execution_count": 3,
   "metadata": {},
   "outputs": [
    {
     "name": "stdout",
     "output_type": "stream",
     "text": [
      "attribute_manipulation :  160000\n",
      "expression_swap :  160000\n",
      "face_synthesis :  160000\n",
      "identity_swap :  160000\n",
      "real :  160000\n"
     ]
    }
   ],
   "source": [
    "train.class_distribution()"
   ]
  },
  {
   "cell_type": "code",
   "execution_count": 4,
   "metadata": {},
   "outputs": [
    {
     "name": "stdout",
     "output_type": "stream",
     "text": [
      "attribute_manipulation :  1999\n",
      "expression_swap :  4057\n",
      "face_synthesis :  3998\n",
      "identity_swap :  7789\n",
      "real :  3213\n"
     ]
    }
   ],
   "source": [
    "val.class_distribution()"
   ]
  },
  {
   "cell_type": "code",
   "execution_count": 5,
   "metadata": {},
   "outputs": [],
   "source": [
    "bs = 128\n",
    "train_loader = train.data_loader(batch_size=bs)\n",
    "val_loader = val.data_loader(batch_size=bs)"
   ]
  },
  {
   "cell_type": "markdown",
   "metadata": {},
   "source": [
    "###### Define model"
   ]
  },
  {
   "cell_type": "code",
   "execution_count": 6,
   "metadata": {},
   "outputs": [
    {
     "name": "stdout",
     "output_type": "stream",
     "text": [
      "Loaded pretrained weights for efficientnet-b0\n",
      "Number of parameters:  4013953\n"
     ]
    }
   ],
   "source": [
    "model = EfficientNetvX(version='b0')\n",
    "model.to(device)\n",
    "print('Number of parameters: ', sum(p.numel() for p in model.parameters() if p.requires_grad))"
   ]
  },
  {
   "cell_type": "markdown",
   "metadata": {},
   "source": [
    "###### Training"
   ]
  },
  {
   "cell_type": "code",
   "execution_count": 7,
   "metadata": {},
   "outputs": [
    {
     "name": "stdout",
     "output_type": "stream",
     "text": [
      "START TRAIN.\n",
      "[Epoch 1/12] TRAIN acc/loss: 0.861896/0.337011\n",
      "[Epoch 1/12] VAL acc/loss: 0.872585/0.331373\n",
      "Saving model... models/EfficientNetb0.model\n",
      "[Epoch 2/12] TRAIN acc/loss: 0.911975/0.218077\n",
      "[Epoch 2/12] VAL acc/loss: 0.905919/0.246095\n",
      "Saving model... models/EfficientNetb0.model\n",
      "[Epoch 3/12] TRAIN acc/loss: 0.934664/0.161641\n",
      "[Epoch 3/12] VAL acc/loss: 0.902746/0.268880\n",
      "[Epoch 4/12] TRAIN acc/loss: 0.950220/0.124096\n",
      "[Epoch 4/12] VAL acc/loss: 0.898627/0.339875\n",
      "[Epoch 5/12] TRAIN acc/loss: 0.961841/0.095954\n",
      "[Epoch 5/12] VAL acc/loss: 0.905161/0.310178\n",
      "[Epoch 6/12] TRAIN acc/loss: 0.970431/0.075114\n",
      "[Epoch 6/12] VAL acc/loss: 0.903551/0.401344\n",
      "[Epoch 7/12] TRAIN acc/loss: 0.976853/0.059867\n",
      "[Epoch 7/12] VAL acc/loss: 0.908049/0.398167\n",
      "Saving model... models/EfficientNetb0.model\n",
      "[Epoch 8/12] TRAIN acc/loss: 0.981244/0.049613\n",
      "[Epoch 8/12] VAL acc/loss: 0.909943/0.403532\n",
      "Saving model... models/EfficientNetb0.model\n",
      "[Epoch 9/12] TRAIN acc/loss: 0.984387/0.041735\n",
      "[Epoch 9/12] VAL acc/loss: 0.903125/0.478674\n",
      "[Epoch 10/12] TRAIN acc/loss: 0.986433/0.036866\n",
      "[Epoch 10/12] VAL acc/loss: 0.903883/0.459951\n",
      "[Epoch 11/12] TRAIN acc/loss: 0.988141/0.032271\n",
      "[Epoch 11/12] VAL acc/loss: 0.904025/0.495105\n",
      "[Epoch 12/12] TRAIN acc/loss: 0.989078/0.029945\n",
      "[Epoch 12/12] VAL acc/loss: 0.903646/0.526870\n",
      "\n",
      "\n",
      "Confusion matrix: \n",
      " [[1.634e+03 1.000e+00 1.160e+02 0.000e+00 2.480e+02]\n",
      " [0.000e+00 3.471e+03 0.000e+00 1.390e+02 4.470e+02]\n",
      " [8.000e+00 0.000e+00 3.883e+03 0.000e+00 1.070e+02]\n",
      " [0.000e+00 1.140e+02 0.000e+00 7.507e+03 1.680e+02]\n",
      " [4.900e+01 3.090e+02 1.870e+02 7.800e+01 2.590e+03]]\n",
      "\n",
      "\n",
      "FINISH.\n"
     ]
    }
   ],
   "source": [
    "from solver import Solver\n",
    "solver = Solver(optim_args={'lr': 1e-4})\n",
    "train_history = solver.train(model, train_loader, val_loader, log_nth=1, num_epochs=12)"
   ]
  }
 ],
 "metadata": {
  "kernelspec": {
   "display_name": "Python 3",
   "language": "python",
   "name": "python3"
  },
  "language_info": {
   "codemirror_mode": {
    "name": "ipython",
    "version": 3
   },
   "file_extension": ".py",
   "mimetype": "text/x-python",
   "name": "python",
   "nbconvert_exporter": "python",
   "pygments_lexer": "ipython3",
   "version": "3.8.2"
  }
 },
 "nbformat": 4,
 "nbformat_minor": 2
}
